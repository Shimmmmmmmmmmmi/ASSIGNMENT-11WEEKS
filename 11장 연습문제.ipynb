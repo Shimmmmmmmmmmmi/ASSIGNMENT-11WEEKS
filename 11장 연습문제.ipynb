{
 "cells": [
  {
   "cell_type": "code",
   "execution_count": 1,
   "id": "d1522e49",
   "metadata": {},
   "outputs": [
    {
     "data": {
      "text/plain": [
       "'1.21.5'"
      ]
     },
     "execution_count": 1,
     "metadata": {},
     "output_type": "execute_result"
    }
   ],
   "source": [
    "#11.1\n",
    "import numpy as np\n",
    "np.__version__"
   ]
  },
  {
   "cell_type": "code",
   "execution_count": 15,
   "id": "10869290",
   "metadata": {},
   "outputs": [
    {
     "name": "stdout",
     "output_type": "stream",
     "text": [
      "a= [0 0 0 0 0 0 0 0 0]\n",
      "b= [0. 0. 0. 0. 0. 0. 0. 0. 0. 0.]\n"
     ]
    },
    {
     "data": {
      "text/plain": [
       "numpy.ndarray"
      ]
     },
     "execution_count": 15,
     "metadata": {},
     "output_type": "execute_result"
    }
   ],
   "source": [
    "#11-2\n",
    "\n",
    "#1\n",
    "a=np.array([0,0,0,0,0,0,0,0,0])\n",
    "print('a=',a)\n",
    "\n",
    "#2\n",
    "b=np.zeros((10,))\n",
    "print('b=',b)\n",
    "\n",
    "#3\n",
    "type(a)\n",
    "type(b)"
   ]
  },
  {
   "cell_type": "code",
   "execution_count": 23,
   "id": "d26b5d40",
   "metadata": {},
   "outputs": [
    {
     "name": "stdout",
     "output_type": "stream",
     "text": [
      "n_arr의 크기 :40 byte\n",
      "n_arr의 크기 :80 byte\n",
      "n_arr의 크기 :32 byte\n"
     ]
    }
   ],
   "source": [
    "#11-3\n",
    "\n",
    "n_arr=np.array([1,2,3,4,5,6,7,8,9,10],dtype='int32')\n",
    "print('n_arr의 크기 :{} byte'.format(n_arr.itemsize*n_arr.size))\n",
    "\n",
    "#1\n",
    "n_arr=np.array([1,2,3,4,5,6,7,8,9,10],dtype='int64')\n",
    "print('n_arr의 크기 :{} byte'.format(n_arr.itemsize*n_arr.size))\n",
    "\n",
    "#2\n",
    "n_arr=np.array([1.5,2.2,3.2,4.9],dtype='float64')\n",
    "print('n_arr의 크기 :{} byte'.format(n_arr.itemsize*n_arr.size))"
   ]
  },
  {
   "cell_type": "code",
   "execution_count": 28,
   "id": "0a98aad7",
   "metadata": {},
   "outputs": [
    {
     "name": "stdout",
     "output_type": "stream",
     "text": [
      "a= [ 1  2  3  4  5  6  7  8  9 10]\n",
      "a= [10  9  8  7  6  5  4  3  2  1]\n",
      "a= [[10  9  8  7  6]\n",
      " [ 5  4  3  2  1]]\n",
      "a= [[10  9]\n",
      " [ 8  7]\n",
      " [ 6  5]\n",
      " [ 4  3]\n",
      " [ 2  1]]\n"
     ]
    }
   ],
   "source": [
    "#11-4\n",
    "#1\n",
    "a=np.arange(1,11)\n",
    "print('a=',a)\n",
    "\n",
    "#2\n",
    "a=a[::-1]\n",
    "print('a=',a)\n",
    "\n",
    "#3\n",
    "a=a.reshape(2,5)\n",
    "print('a=',a)\n",
    "\n",
    "#4\n",
    "a=a.reshape(5,2)\n",
    "print('a=',a)"
   ]
  },
  {
   "cell_type": "code",
   "execution_count": 29,
   "id": "99f1ef89",
   "metadata": {},
   "outputs": [
    {
     "name": "stdout",
     "output_type": "stream",
     "text": [
      "[[ 1  2  3  4]\n",
      " [ 5  6  7  8]\n",
      " [ 9 10 11 12]\n",
      " [13 14 15 16]]\n"
     ]
    }
   ],
   "source": [
    "#11-5\n",
    "\n",
    "a=np.arange(1,17).reshape(4,4)\n",
    "print(a)"
   ]
  },
  {
   "cell_type": "code",
   "execution_count": 33,
   "id": "9d80cf57",
   "metadata": {},
   "outputs": [
    {
     "name": "stdout",
     "output_type": "stream",
     "text": [
      "a= [0.51440027 0.90943078 0.92554155 0.92051219 0.12887301 0.71715989\n",
      " 0.58425037 0.80247282 0.8789445  0.99086088]\n",
      "최댓값 : 0.9908608849898074\n",
      "최솟값 : 0.1288730129209943\n",
      "평균값 : 0.7372446268334167\n"
     ]
    }
   ],
   "source": [
    "#11-6\n",
    "\n",
    "a=np.random.random(10)\n",
    "print('a=',a)\n",
    "\n",
    "print('최댓값 :',a.max())\n",
    "print('최솟값 :',a.min())\n",
    "print('평균값 :',a.mean())"
   ]
  },
  {
   "cell_type": "code",
   "execution_count": 44,
   "id": "02cabd37",
   "metadata": {},
   "outputs": [
    {
     "name": "stdout",
     "output_type": "stream",
     "text": [
      "n을 입력하시오:5\n",
      "[[1. 0. 1. 0. 1.]\n",
      " [0. 1. 0. 1. 0.]\n",
      " [1. 0. 1. 0. 1.]\n",
      " [0. 1. 0. 1. 0.]\n",
      " [1. 0. 1. 0. 1.]]\n"
     ]
    }
   ],
   "source": [
    "#11-7\n",
    "import numpy as np\n",
    "\n",
    "n=int(input('n을 입력하시오:'))\n",
    "\n",
    "a=np.ones((n,n))\n",
    "for i in range(n):\n",
    "    for j in range(n):\n",
    "        if (i+j)%2==1:\n",
    "            a[i,j]=0\n",
    "print(a)"
   ]
  },
  {
   "cell_type": "code",
   "execution_count": 15,
   "id": "d56641de",
   "metadata": {},
   "outputs": [
    {
     "name": "stdout",
     "output_type": "stream",
     "text": [
      "n을 입력하시오:6\n",
      "[[1. 0. 0. 0. 0. 0.]\n",
      " [0. 2. 0. 0. 0. 0.]\n",
      " [0. 0. 3. 0. 0. 0.]\n",
      " [0. 0. 0. 4. 0. 0.]\n",
      " [0. 0. 0. 0. 5. 0.]\n",
      " [0. 0. 0. 0. 0. 6.]]\n"
     ]
    }
   ],
   "source": [
    "#11-8\n",
    "import numpy as np\n",
    "\n",
    "n=int(input('n을 입력하시오:'))\n",
    "\n",
    "a=np.zeros((n,n))\n",
    "j=0\n",
    "for i in range(n):\n",
    "    j=j+1\n",
    "    a[i,i]=j\n",
    "\n",
    "    \n",
    "print(a)"
   ]
  },
  {
   "cell_type": "code",
   "execution_count": 18,
   "id": "22e7b91d",
   "metadata": {},
   "outputs": [
    {
     "name": "stdout",
     "output_type": "stream",
     "text": [
      "n을 입력하시오:5\n",
      "a 행렬\n",
      "[[0. 0. 0. 0. 0.]\n",
      " [0. 0. 0. 0. 0.]\n",
      " [0. 0. 0. 0. 0.]\n",
      " [0. 0. 0. 0. 0.]\n",
      " [0. 0. 0. 0. 0.]]\n",
      "b 행렬\n",
      "[[1 1 1 1 1]\n",
      " [1 0 0 0 1]\n",
      " [1 0 0 0 1]\n",
      " [1 0 0 0 1]\n",
      " [1 1 1 1 1]]\n"
     ]
    }
   ],
   "source": [
    "#11-9\n",
    "\n",
    "import numpy as np\n",
    "\n",
    "n=int(input('n을 입력하시오:'))\n",
    "a=np.zeros((n,n))\n",
    "print('a 행렬')\n",
    "print(a)\n",
    "b=np.ones((n,n),dtype='int32')\n",
    "b[1:-1,1:-1]=0\n",
    "print('b 행렬')\n",
    "print(b)"
   ]
  },
  {
   "cell_type": "code",
   "execution_count": 19,
   "id": "66c0507b",
   "metadata": {},
   "outputs": [
    {
     "name": "stdout",
     "output_type": "stream",
     "text": [
      "n을 입력하시오:5\n",
      "a 행렬\n",
      "[[1. 1. 1. 1. 1.]\n",
      " [1. 1. 1. 1. 1.]\n",
      " [1. 1. 1. 1. 1.]\n",
      " [1. 1. 1. 1. 1.]\n",
      " [1. 1. 1. 1. 1.]]\n",
      "b 행렬\n",
      "[[0. 0. 0. 0. 0.]\n",
      " [0. 1. 1. 1. 0.]\n",
      " [0. 1. 1. 1. 0.]\n",
      " [0. 1. 1. 1. 0.]\n",
      " [0. 0. 0. 0. 0.]]\n"
     ]
    }
   ],
   "source": [
    "#11-10\n",
    "import numpy as np\n",
    "\n",
    "n=int(input('n을 입력하시오:'))\n",
    "a=np.ones((n,n))\n",
    "print('a 행렬')\n",
    "print(a)\n",
    "b=np.zeros((n,n))\n",
    "b[1:-1,1:-1]=1\n",
    "print('b 행렬')\n",
    "print(b)"
   ]
  },
  {
   "cell_type": "code",
   "execution_count": 32,
   "id": "9a2a7691",
   "metadata": {},
   "outputs": [
    {
     "name": "stdout",
     "output_type": "stream",
     "text": [
      "a배열 : [ 0 10 20 40 60 80]\n",
      "b배열 : [ 0 20]\n",
      "a-b배열 : [10. 40. 60. 80.]\n",
      "[10 40 60 80]\n"
     ]
    }
   ],
   "source": [
    "#11-13\n",
    "a=np.array([0,10,20,40,60,80])\n",
    "b=np.array([0,20])\n",
    "c = np.array([])\n",
    "\n",
    "print('a배열 :',a)\n",
    "print('b배열 :',b)\n",
    "\n",
    "#1\n",
    "for n in a:\n",
    "    if n not in b:\n",
    "        c = np.append(c, n)\n",
    "print('a-b배열 :',c)\n",
    "\n",
    "#2\n",
    "c=np.setdiff1d(a,b)\n",
    "print(c)"
   ]
  },
  {
   "cell_type": "code",
   "execution_count": 40,
   "id": "1969182e",
   "metadata": {},
   "outputs": [
    {
     "name": "stdout",
     "output_type": "stream",
     "text": [
      "n을 입력하시오 :6\n",
      "[[1. 0. 0. 0. 0. 1.]\n",
      " [0. 1. 0. 0. 1. 0.]\n",
      " [0. 0. 1. 1. 0. 0.]\n",
      " [0. 0. 1. 1. 0. 0.]\n",
      " [0. 1. 0. 0. 1. 0.]\n",
      " [1. 0. 0. 0. 0. 1.]]\n"
     ]
    }
   ],
   "source": [
    "#11-14\n",
    "\n",
    "n=int(input('n을 입력하시오 :'))\n",
    "a=np.zeros((n,n))\n",
    "\n",
    "for i in range(n):\n",
    "    a[i,i]=1\n",
    "for j in range(n):\n",
    "    a[j,n-1-j]=1\n",
    "print(a)"
   ]
  },
  {
   "cell_type": "code",
   "execution_count": 1,
   "id": "c554f241",
   "metadata": {},
   "outputs": [
    {
     "name": "stdout",
     "output_type": "stream",
     "text": [
      "n을 입력하시오 :5\n",
      "[[1. 0. 0. 0. 0.]\n",
      " [1. 1. 0. 0. 0.]\n",
      " [1. 1. 1. 0. 0.]\n",
      " [1. 1. 1. 1. 0.]\n",
      " [1. 1. 1. 1. 1.]]\n",
      "행렬의 모든 원소의 합: 15.0\n",
      "행렬의 행방향 성분의 합: [5. 4. 3. 2. 1.]\n",
      "행렬의 열방향 성분의 합: [1. 2. 3. 4. 5.]\n"
     ]
    }
   ],
   "source": [
    "#11-15\n",
    "import numpy as np\n",
    "#1\n",
    "n=int(input('n을 입력하시오 :'))\n",
    "a=np.zeros((n,n))\n",
    "\n",
    "for i in range(n):\n",
    "    for j in range(n):\n",
    "        if i >= j:\n",
    "            a[i, j] = 1\n",
    "print(a)    \n",
    "\n",
    "#2\n",
    "s=a.sum()\n",
    "print('행렬의 모든 원소의 합:',s)\n",
    "\n",
    "s=a.sum(axis=0)\n",
    "print('행렬의 행방향 성분의 합:',s)\n",
    "\n",
    "s=a.sum(axis=1)\n",
    "print('행렬의 열방향 성분의 합:',s)\n"
   ]
  },
  {
   "cell_type": "code",
   "execution_count": 2,
   "id": "5dfa951e",
   "metadata": {},
   "outputs": [
    {
     "name": "stdout",
     "output_type": "stream",
     "text": [
      "x=9.0, y=2.0, z=-4.0\n"
     ]
    }
   ],
   "source": [
    "#11-20\n",
    "a=np.array([[2,1,1],[1,2,1],[1,1,2]])\n",
    "b=np.array([16,9,3])\n",
    "x=np.linalg.solve(a,b)\n",
    "print('x={}, y={}, z={}'.format(x[0],x[1],x[2]))"
   ]
  }
 ],
 "metadata": {
  "kernelspec": {
   "display_name": "Python 3 (ipykernel)",
   "language": "python",
   "name": "python3"
  },
  "language_info": {
   "codemirror_mode": {
    "name": "ipython",
    "version": 3
   },
   "file_extension": ".py",
   "mimetype": "text/x-python",
   "name": "python",
   "nbconvert_exporter": "python",
   "pygments_lexer": "ipython3",
   "version": "3.9.12"
  }
 },
 "nbformat": 4,
 "nbformat_minor": 5
}
