{
 "cells": [
  {
   "cell_type": "code",
   "execution_count": 113,
   "id": "c1b18251",
   "metadata": {},
   "outputs": [
    {
     "name": "stdout",
     "output_type": "stream",
     "text": [
      "c.shape = (5,)\n",
      "c.ndim = 1\n",
      "c.dtype = int64\n",
      "c.size = 5\n",
      "c.itemsize = 8\n"
     ]
    }
   ],
   "source": [
    "#LAB 11-1.1\n",
    "\n",
    "import numpy as np\n",
    "a=np.array([0,1,2,3,4,5,6,7,8,9])\n",
    "a\n",
    "#LAB 11-1.2\n",
    "\n",
    "a=np.array(range(10))\n",
    "a\n",
    "\n",
    "#LAB 11-1.3\n",
    "c=np.array(range(0,10,2))\n",
    "c\n",
    "\n",
    "#LAB 11-1.4\n",
    "c=np.array(range(0,10,2),dtype='int64')\n",
    "\n",
    "print('c.shape =',c.shape)\n",
    "print('c.ndim =',c.ndim)\n",
    "print('c.dtype =',c.dtype)\n",
    "print('c.size =',c.size)\n",
    "print('c.itemsize =',c.itemsize)\n"
   ]
  },
  {
   "cell_type": "code",
   "execution_count": 32,
   "id": "48063cfe",
   "metadata": {},
   "outputs": [
    {
     "name": "stdout",
     "output_type": "stream",
     "text": [
      "a= array([23 45 67  7  2 30 34 82])\n",
      "최댓값 : 82\n",
      "최솟값 : 2\n",
      "평균 : 36.25\n",
      "b= [78 21  9 38 19 70 14  6 80 62]\n",
      "최댓값 : 80\n",
      "최솟값 : 6\n",
      "평균 : 39.7\n",
      "c= [23 45 67  7  2 30 34 82 78 21  9 38 19 70 14  6 80 62]\n"
     ]
    }
   ],
   "source": [
    "#LAB 11-2.1\n",
    "a=np.array([23,45,67,7,2,30,34,82])\n",
    "print('a= array({})'.format(a))\n",
    "\n",
    "print('최댓값 :',a.max())\n",
    "print('최솟값 :',a.min())\n",
    "print('평균 :',a.mean())\n",
    "\n",
    "#LAB 11-2.2\n",
    "b=np.random.randint(0,100,size=10)\n",
    "print('b=',b)\n",
    "print('최댓값 :',b.max())\n",
    "print('최솟값 :',b.min())\n",
    "print('평균 :',b.mean())\n",
    "\n",
    "c=np.append(a,b)\n",
    "print('c=',c)"
   ]
  },
  {
   "cell_type": "code",
   "execution_count": 38,
   "id": "968393d4",
   "metadata": {},
   "outputs": [
    {
     "name": "stdout",
     "output_type": "stream",
     "text": [
      "a= [[1 2 3]\n",
      " [4 5 6]\n",
      " [7 8 9]]\n",
      "b= [[2 2 2]\n",
      " [2 2 2]\n",
      " [2 2 2]]\n",
      "\n",
      "[[ 3  4  5]\n",
      " [ 6  7  8]\n",
      " [ 9 10 11]]\n",
      "\n",
      "[[-1  0  1]\n",
      " [ 2  3  4]\n",
      " [ 5  6  7]]\n",
      "\n",
      "[[ 2  4  6]\n",
      " [ 8 10 12]\n",
      " [14 16 18]]\n",
      "\n",
      "[[0.5 1.  1.5]\n",
      " [2.  2.5 3. ]\n",
      " [3.5 4.  4.5]]\n",
      "\n",
      "[[12 12 12]\n",
      " [30 30 30]\n",
      " [48 48 48]]\n",
      "\n",
      "[[ 1  4  9]\n",
      " [16 25 36]\n",
      " [49 64 81]]\n"
     ]
    }
   ],
   "source": [
    "#LAB 11-3.1\n",
    "import numpy as np\n",
    "a=np.array([[1,2,3],[4,5,6],[7,8,9]])\n",
    "b=np.array([[2,2,2],[2,2,2],[2,2,2]])\n",
    "\n",
    "print('a=',a)\n",
    "print('b=',b)\n",
    "print()\n",
    "print(a+b)\n",
    "print()\n",
    "print(a-b)\n",
    "print()\n",
    "print(a*b)\n",
    "print()\n",
    "print(a/b)\n",
    "print()\n",
    "print(a@b)\n",
    "print()\n",
    "print(a**b)\n",
    "\n"
   ]
  },
  {
   "cell_type": "code",
   "execution_count": 49,
   "id": "7d1bc915",
   "metadata": {},
   "outputs": [
    {
     "name": "stdout",
     "output_type": "stream",
     "text": [
      "[[2 2 2]\n",
      " [2 2 2]\n",
      " [2 2 2]]\n",
      "[ 1  2  3  4  5  6  7  8  9 10 11 12]\n",
      "[ 3  6  9 12 15 18 21 24 27 30 33 36 39 42 45 48]\n",
      "[ 0.  5. 10. 15. 20.]\n"
     ]
    }
   ],
   "source": [
    "#LAB 11-4.1\n",
    "a1=np.full((3,3),2)\n",
    "print(a1)\n",
    "#LAB 11-4.2\n",
    "\n",
    "a2=np.arange(1,13)\n",
    "print(a2)\n",
    "\n",
    "#LAB 11-4.3\n",
    "a3=np.arange(3,50,3)\n",
    "print(a3)\n",
    "\n",
    "#LAB 11-4.4\n",
    "a4=np.linspace(0,20,5)\n",
    "print(a4)"
   ]
  },
  {
   "cell_type": "code",
   "execution_count": 59,
   "id": "578460da",
   "metadata": {},
   "outputs": [
    {
     "data": {
      "text/plain": [
       "array([[ 1,  6, 11, 16, 21, 26],\n",
       "       [ 2,  7, 12, 17, 22, 27],\n",
       "       [ 3,  8, 13, 18, 23, 28],\n",
       "       [ 4,  9, 14, 19, 24, 29],\n",
       "       [ 5, 10, 15, 20, 25, 30]])"
      ]
     },
     "execution_count": 59,
     "metadata": {},
     "output_type": "execute_result"
    }
   ],
   "source": [
    "#LAB 11-5.1\n",
    "import numpy as np\n",
    "a1=np.arange(1,13).reshape(2,6)\n",
    "a1\n",
    "\n",
    "#LAB 11-5.2\n",
    "a2=np.arange(1,31).reshape(3,10)\n",
    "a2\n",
    "\n",
    "#LAB 11-5.3\n",
    "a3=a2.reshape(6,5)\n",
    "\n",
    "#LAB 11-5.4\n",
    "a4=np.transpose(a3)\n",
    "a4"
   ]
  },
  {
   "cell_type": "code",
   "execution_count": 72,
   "id": "bccaf61b",
   "metadata": {},
   "outputs": [
    {
     "name": "stdout",
     "output_type": "stream",
     "text": [
      "[[73 52 38 26 16]\n",
      " [24 77 89 19 89]\n",
      " [25 59 61 93 58]]\n",
      "\n",
      "a의 열방향 최댓값 : [73 77 89 93 89]\n",
      "a의 열방향 최솟값 : [24 52 38 19 16]\n",
      "a의 열방향 평균 : [40.66666667 62.66666667 62.66666667 46.         54.33333333]\n",
      "\n",
      "a의 행방향 최댓값 : [73 89 93]\n",
      "a의 행방향 최솟값 : [16 19 25]\n",
      "a의 행방향 평균 : [41.  59.6 59.2]\n"
     ]
    }
   ],
   "source": [
    "#LAB 11-6.1\n",
    "import numpy as np \n",
    "a=np.random.randint(1,101,15).reshape(3,5)\n",
    "print(a)\n",
    "print()\n",
    "#LAB 11-6.2\n",
    "print('a의 열방향 최댓값 :',a.max(axis=0))\n",
    "print('a의 열방향 최솟값 :',a.min(axis=0))\n",
    "print('a의 열방향 평균 :',a.mean(axis=0))\n",
    "\n",
    "print()\n",
    "#LAB 11-6.3\n",
    "print('a의 행방향 최댓값 :',a.max(axis=1))\n",
    "print('a의 행방향 최솟값 :',a.min(axis=1))\n",
    "print('a의 행방향 평균 :',a.mean(axis=1))"
   ]
  },
  {
   "cell_type": "code",
   "execution_count": 76,
   "id": "e5a0c654",
   "metadata": {},
   "outputs": [
    {
     "name": "stdout",
     "output_type": "stream",
     "text": [
      "a= [2 4 6 8]\n",
      "b= [ 6  7  8  9 10]\n",
      "c= [ 7  8  9 10]\n",
      "a= [1 2 3]\n",
      "a= [1 3 5 7 9]\n",
      "a= [10  8  6  4  2]\n"
     ]
    }
   ],
   "source": [
    "#11-7.1\n",
    "a=np.arange(1,11)\n",
    "print('a=',a[1:9:2])\n",
    "\n",
    "#11-7.2\n",
    "print('b=',a[5:])\n",
    "print('c=',a[6:])\n",
    "print('a=',a[:3])\n",
    "print('a=',a[::2])\n",
    "print('a=',a[::-2])\n",
    "\n"
   ]
  },
  {
   "cell_type": "code",
   "execution_count": 3,
   "id": "58ea6105",
   "metadata": {},
   "outputs": [
    {
     "name": "stdout",
     "output_type": "stream",
     "text": [
      "index        element\n",
      "(0, 0, 0)      0\n",
      "(0, 0, 1)      1\n",
      "(0, 1, 0)      2\n",
      "(0, 1, 1)      3\n",
      "(0, 2, 0)      4\n",
      "(0, 2, 1)      5\n",
      "(1, 0, 0)      6\n",
      "(1, 0, 1)      7\n",
      "(1, 1, 0)      8\n",
      "(1, 1, 1)      9\n",
      "(1, 2, 0)     10\n",
      "(1, 2, 1)     11\n",
      "(2, 0, 0)     12\n",
      "(2, 0, 1)     13\n",
      "(2, 1, 0)     14\n",
      "(2, 1, 1)     15\n",
      "(2, 2, 0)     16\n",
      "(2, 2, 1)     17\n",
      "(3, 0, 0)     18\n",
      "(3, 0, 1)     19\n",
      "(3, 1, 0)     20\n",
      "(3, 1, 1)     21\n",
      "(3, 2, 0)     22\n",
      "(3, 2, 1)     23\n"
     ]
    },
    {
     "data": {
      "text/plain": [
       "array([0, 1, 6, 7])"
      ]
     },
     "execution_count": 3,
     "metadata": {},
     "output_type": "execute_result"
    }
   ],
   "source": [
    "#11-8.1\n",
    "import numpy as np\n",
    "a = np.arange(0, 24).reshape(4, 3, 2)\n",
    "\n",
    "print('{:13s}{:5s}'.format('index', 'element'))\n",
    "for i in np.ndindex(a.shape):\n",
    "    print('{}{:7d}'.format(i, a[i]))\n",
    "    \n",
    "    \n",
    "    \n",
    "#11-8.2\n",
    "np.concatenate((a[0, 0], a[1, 0]), axis=0)\n",
    "\n",
    "\n",
    "np.concatenate((a[0, 0], a[2, 1]), axis=0)\n",
    "\n",
    "np.concatenate((a[0], a[1]), axis=0)\n",
    "\n",
    "np.concatenate((a[0], a[1]), axis=1)\n",
    "\n",
    "np.concatenate((a[0, 0], a[1, 0]), axis=0)"
   ]
  },
  {
   "cell_type": "code",
   "execution_count": 105,
   "id": "2d1004c3",
   "metadata": {},
   "outputs": [
    {
     "name": "stdout",
     "output_type": "stream",
     "text": [
      "b= [ 1  5  9 13]\n",
      "c= [ 9 10 11]\n",
      "d= [[0 1]\n",
      " [4 5]]\n",
      "e= [[ 5  6]\n",
      " [ 9 10]]\n",
      "f= [0 1 4 5 8 9]\n",
      "g= [ 8  9 10 11 12 13 14 15]\n",
      "h= [ 5  6  7 13 14 15]\n"
     ]
    }
   ],
   "source": [
    "#11-9.1\n",
    "a=np.arange(0,16).reshape(4,4)\n",
    "\n",
    "print('b=',a[:,1])\n",
    "print('c=',a[2,1:])\n",
    "print('d=',a[0:2,0:2])\n",
    "print('e=',a[1:3,1:3])\n",
    "\n",
    "#11-9.2\n",
    "f=a[:3,:2].flatten()\n",
    "\n",
    "print('f=',f)\n",
    "print('g=',a[2:,:].flatten())\n",
    "\n",
    "\n",
    "print('h=',a[1::2,1:].flatten())"
   ]
  },
  {
   "cell_type": "code",
   "execution_count": 10,
   "id": "f131cf88",
   "metadata": {},
   "outputs": [
    {
     "name": "stdout",
     "output_type": "stream",
     "text": [
      "x = 1.0000000000000007 y = 2.0 z = 2.9999999999999996\n",
      "det(A) = -11.0\n"
     ]
    }
   ],
   "source": [
    "#11-10.1\n",
    "\n",
    "import numpy as np\n",
    "A = np.array([[1, 1, -1], [2, -1, 3], [1, 2, 1]], dtype='int32')\n",
    "B = np.array([0, 9, 8], dtype='int32')\n",
    "x = np.linalg.solve(A, B)\n",
    "print('x =',x[0],'y =',x[1], 'z =',  x[2])\n",
    "\n",
    "#11-10.2\n",
    "A = np.array([[1, 1, -1], [2, -1, 3], [1, 2, 1]], dtype='int32')\n",
    "det = np.linalg.det(A)\n",
    "print('det(A) = {:4.1f}'.format(det))\n",
    "\n"
   ]
  },
  {
   "cell_type": "code",
   "execution_count": null,
   "id": "7d3a869c",
   "metadata": {},
   "outputs": [],
   "source": []
  },
  {
   "cell_type": "code",
   "execution_count": null,
   "id": "307fd5ba",
   "metadata": {},
   "outputs": [],
   "source": []
  }
 ],
 "metadata": {
  "kernelspec": {
   "display_name": "Python 3 (ipykernel)",
   "language": "python",
   "name": "python3"
  },
  "language_info": {
   "codemirror_mode": {
    "name": "ipython",
    "version": 3
   },
   "file_extension": ".py",
   "mimetype": "text/x-python",
   "name": "python",
   "nbconvert_exporter": "python",
   "pygments_lexer": "ipython3",
   "version": "3.9.12"
  }
 },
 "nbformat": 4,
 "nbformat_minor": 5
}
